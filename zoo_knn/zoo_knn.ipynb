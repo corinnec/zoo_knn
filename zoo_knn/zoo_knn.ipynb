{
 "cells": [
  {
   "cell_type": "markdown",
   "metadata": {},
   "source": [
    "# Part 1: Wisconsin Breast Cancer Diagnoses\n",
    "## Step 1\n",
    "##### \"Collect\" the Data"
   ]
  },
  {
   "cell_type": "code",
   "execution_count": 1,
   "metadata": {
    "collapsed": false
   },
   "outputs": [],
   "source": [
    "wbcd <- read.csv(\"wisc_bc_data.csv\", header=TRUE)"
   ]
  },
  {
   "cell_type": "markdown",
   "metadata": {},
   "source": [
    "## Step 2\n",
    "##### Explore & Prepare the Data"
   ]
  },
  {
   "cell_type": "code",
   "execution_count": 2,
   "metadata": {
    "collapsed": false
   },
   "outputs": [
    {
     "data": {
      "text/plain": [
       "\n",
       "  B   M \n",
       "357 212 "
      ]
     },
     "execution_count": 2,
     "metadata": {},
     "output_type": "execute_result"
    }
   ],
   "source": [
    "wbcd <- wbcd[-1] # Removing the ID of the patients.\n",
    "table(wbcd$diagnosis)"
   ]
  },
  {
   "cell_type": "code",
   "execution_count": 3,
   "metadata": {
    "collapsed": false
   },
   "outputs": [
    {
     "data": {
      "text/plain": [
       "\n",
       "   Benign Malignant \n",
       "     62.7      37.3 "
      ]
     },
     "execution_count": 3,
     "metadata": {},
     "output_type": "execute_result"
    }
   ],
   "source": [
    "wbcd$diagnosis <- factor(wbcd$diagnosis, levels = c(\"B\", \"M\"),labels = c(\"Benign\", \"Malignant\"))\n",
    "round(prop.table(table(wbcd$diagnosis)) * 100, digits = 1)"
   ]
  },
  {
   "cell_type": "code",
   "execution_count": 4,
   "metadata": {
    "collapsed": false
   },
   "outputs": [
    {
     "data": {
      "text/plain": [
       "  radius_mean       area_mean      smoothness_mean  \n",
       " Min.   : 6.981   Min.   : 143.5   Min.   :0.05263  \n",
       " 1st Qu.:11.700   1st Qu.: 420.3   1st Qu.:0.08637  \n",
       " Median :13.370   Median : 551.1   Median :0.09587  \n",
       " Mean   :14.127   Mean   : 654.9   Mean   :0.09636  \n",
       " 3rd Qu.:15.780   3rd Qu.: 782.7   3rd Qu.:0.10530  \n",
       " Max.   :28.110   Max.   :2501.0   Max.   :0.16340  "
      ]
     },
     "execution_count": 4,
     "metadata": {},
     "output_type": "execute_result"
    }
   ],
   "source": [
    "summary(wbcd[c(\"radius_mean\", \"area_mean\", \"smoothness_mean\")])"
   ]
  },
  {
   "cell_type": "code",
   "execution_count": 5,
   "metadata": {
    "collapsed": true
   },
   "outputs": [],
   "source": [
    "normalize <- function(x)\n",
    "{\n",
    "  return ((x - min(x)) / (max(x) - min(x)))\n",
    "}"
   ]
  },
  {
   "cell_type": "code",
   "execution_count": 6,
   "metadata": {
    "collapsed": true
   },
   "outputs": [],
   "source": [
    "wbcd_n <- as.data.frame(lapply(wbcd[2:31], normalize))\n",
    "wbcd_train <- wbcd_n[1:469, ]\n",
    "wbcd_test <- wbcd_n[470:569, ]\n",
    "wbcd_train_labels <- wbcd[1:469, 1]\n",
    "wbcd_test_labels <- wbcd[470:569, 1]"
   ]
  },
  {
   "cell_type": "markdown",
   "metadata": {},
   "source": [
    "## Step 3\n",
    "##### Training a Model on the Data"
   ]
  },
  {
   "cell_type": "code",
   "execution_count": 7,
   "metadata": {
    "collapsed": true
   },
   "outputs": [],
   "source": [
    "library(class)\n",
    "\n",
    "wbcd_test_pred <- knn(train = wbcd_train, test = wbcd_test, cl = wbcd_train_labels, k = 15)"
   ]
  },
  {
   "cell_type": "markdown",
   "metadata": {},
   "source": [
    "## Step 4\n",
    "##### Evaluating Model Performance"
   ]
  },
  {
   "cell_type": "code",
   "execution_count": 8,
   "metadata": {
    "collapsed": false
   },
   "outputs": [
    {
     "name": "stdout",
     "output_type": "stream",
     "text": [
      "\n",
      " \n",
      "   Cell Contents\n",
      "|-------------------------|\n",
      "|                       N |\n",
      "|           N / Row Total |\n",
      "|           N / Col Total |\n",
      "|         N / Table Total |\n",
      "|-------------------------|\n",
      "\n",
      " \n",
      "Total Observations in Table:  100 \n",
      "\n",
      " \n",
      "                 | wbcd_test_pred \n",
      "wbcd_test_labels |    Benign | Malignant | Row Total | \n",
      "-----------------|-----------|-----------|-----------|\n",
      "          Benign |        61 |         0 |        61 | \n",
      "                 |     1.000 |     0.000 |     0.610 | \n",
      "                 |     0.953 |     0.000 |           | \n",
      "                 |     0.610 |     0.000 |           | \n",
      "-----------------|-----------|-----------|-----------|\n",
      "       Malignant |         3 |        36 |        39 | \n",
      "                 |     0.077 |     0.923 |     0.390 | \n",
      "                 |     0.047 |     1.000 |           | \n",
      "                 |     0.030 |     0.360 |           | \n",
      "-----------------|-----------|-----------|-----------|\n",
      "    Column Total |        64 |        36 |       100 | \n",
      "                 |     0.640 |     0.360 |           | \n",
      "-----------------|-----------|-----------|-----------|\n",
      "\n",
      " \n"
     ]
    }
   ],
   "source": [
    "library(gmodels)\n",
    "\n",
    "CrossTable(x = wbcd_test_labels, y = wbcd_test_pred, prop.chisq = FALSE)"
   ]
  },
  {
   "cell_type": "markdown",
   "metadata": {},
   "source": [
    "## Step 5\n",
    "##### Improving Model Performance"
   ]
  },
  {
   "cell_type": "code",
   "execution_count": 9,
   "metadata": {
    "collapsed": false
   },
   "outputs": [
    {
     "name": "stdout",
     "output_type": "stream",
     "text": [
      "\n",
      " \n",
      "   Cell Contents\n",
      "|-------------------------|\n",
      "|                       N |\n",
      "|           N / Row Total |\n",
      "|           N / Col Total |\n",
      "|         N / Table Total |\n",
      "|-------------------------|\n",
      "\n",
      " \n",
      "Total Observations in Table:  100 \n",
      "\n",
      " \n",
      "                 | wbcd_test_pred \n",
      "wbcd_test_labels |    Benign | Malignant | Row Total | \n",
      "-----------------|-----------|-----------|-----------|\n",
      "          Benign |        61 |         0 |        61 | \n",
      "                 |     1.000 |     0.000 |     0.610 | \n",
      "                 |     0.953 |     0.000 |           | \n",
      "                 |     0.610 |     0.000 |           | \n",
      "-----------------|-----------|-----------|-----------|\n",
      "       Malignant |         3 |        36 |        39 | \n",
      "                 |     0.077 |     0.923 |     0.390 | \n",
      "                 |     0.047 |     1.000 |           | \n",
      "                 |     0.030 |     0.360 |           | \n",
      "-----------------|-----------|-----------|-----------|\n",
      "    Column Total |        64 |        36 |       100 | \n",
      "                 |     0.640 |     0.360 |           | \n",
      "-----------------|-----------|-----------|-----------|\n",
      "\n",
      " \n"
     ]
    }
   ],
   "source": [
    "wbcd_z <- as.data.frame(scale(wbcd[-1]))\n",
    "wbcd_train <- wbcd_z[1:469, ]\n",
    "wbcd_test <- wbcd_z[470:569, ]\n",
    "wbcd_test_pred <- knn(train = wbcd_train, test = wbcd_test, cl = wbcd_train_labels, k = 15)\n",
    "CrossTable(x = wbcd_test_labels, y = wbcd_test_pred, prop.chisq = FALSE)"
   ]
  },
  {
   "cell_type": "markdown",
   "metadata": {},
   "source": [
    "#### Comment: \n",
    "The z-score transformation does not significantly improve the prediction of the knn. Thus we will return to using a min-max normalization and try to find the optimal k value."
   ]
  },
  {
   "cell_type": "code",
   "execution_count": 10,
   "metadata": {
    "collapsed": true
   },
   "outputs": [],
   "source": [
    "wbcd_train <- wbcd_n[1:469, ]\n",
    "wbcd_test <- wbcd_n[470:569, ]"
   ]
  },
  {
   "cell_type": "code",
   "execution_count": 11,
   "metadata": {
    "collapsed": false
   },
   "outputs": [],
   "source": [
    "wbcd_test_pred <- knn(train = wbcd_train, test = wbcd_test, cl = wbcd_train_labels, k=1)\n",
    "# CrossTable(x = wbcd_test_labels, y = wbcd_test_pred, prop.chisq=FALSE)\n",
    "\n",
    "wbcd_test_pred <- knn(train = wbcd_train, test = wbcd_test, cl = wbcd_train_labels, k=5)\n",
    "# CrossTable(x = wbcd_test_labels, y = wbcd_test_pred, prop.chisq=FALSE)\n",
    "\n",
    "wbcd_test_pred <- knn(train = wbcd_train, test = wbcd_test, cl = wbcd_train_labels, k=11)\n",
    "# CrossTable(x = wbcd_test_labels, y = wbcd_test_pred, prop.chisq=FALSE)\n",
    "\n",
    "wbcd_test_pred <- knn(train = wbcd_train, test = wbcd_test, cl = wbcd_train_labels, k=15)\n",
    "# CrossTable(x = wbcd_test_labels, y = wbcd_test_pred, prop.chisq=FALSE)\n",
    "\n",
    "wbcd_test_pred <- knn(train = wbcd_train, test = wbcd_test, cl = wbcd_train_labels, k=21)\n",
    "# CrossTable(x = wbcd_test_labels, y = wbcd_test_pred, prop.chisq=FALSE)\n",
    "\n",
    "wbcd_test_pred <- knn(train = wbcd_train, test = wbcd_test, cl = wbcd_train_labels, k=27)\n",
    "# CrossTable(x = wbcd_test_labels, y = wbcd_test_pred, prop.chisq=FALSE)"
   ]
  },
  {
   "cell_type": "markdown",
   "metadata": {},
   "source": [
    "#### Conclusion: \n",
    "From multiple knn trials, the optimal value for k is 15 with min-max normalized data. When k=15, we get 97% accuracy in classifying benign vs. malignant growths in breast tissue."
   ]
  },
  {
   "cell_type": "markdown",
   "metadata": {},
   "source": [
    "# Part 2: UCI ML Repository, Zoo Data\n",
    "## Step 1"
   ]
  },
  {
   "cell_type": "markdown",
   "metadata": {},
   "source": [
    "#### Comment: \n",
    "The data here is gathered from a zoo, where various species were classified into one of seven categories based on several characteristics, mostly Boolean."
   ]
  },
  {
   "cell_type": "code",
   "execution_count": 12,
   "metadata": {
    "collapsed": false
   },
   "outputs": [
    {
     "name": "stderr",
     "output_type": "stream",
     "text": [
      "\n",
      "Attaching package: ‘reshape’\n",
      "\n",
      "The following object is masked from ‘package:class’:\n",
      "\n",
      "    condense\n",
      "\n",
      "\n",
      "Attaching package: ‘plyr’\n",
      "\n",
      "The following objects are masked from ‘package:reshape’:\n",
      "\n",
      "    rename, round_any\n",
      "\n"
     ]
    }
   ],
   "source": [
    "library(reshape)\n",
    "library(plyr)\n",
    "\n",
    "zoo <- read.csv(\"zoo.csv\", header=TRUE)\n",
    "zoo <- zoo[-1] # Removing individual species name, but keeping the type distinction."
   ]
  },
  {
   "cell_type": "markdown",
   "metadata": {},
   "source": [
    "## Step 2"
   ]
  },
  {
   "cell_type": "code",
   "execution_count": 13,
   "metadata": {
    "collapsed": false
   },
   "outputs": [],
   "source": [
    "# Renaming the animal types.\n",
    "labels <- c(\"Mammal\", \"Bird\", \"Reptile\", \"Marine\", \"Amphibian\", \"Insect\", \"Invertibrate\")\n",
    "zoo$Type <- factor(zoo$Type, levels=c(1:7), labels=labels) \n",
    "# Creating the testing and training data that has been normalized and randomized.\n",
    "zoo_n <- as.data.frame(lapply(zoo[1:16], normalize))\n",
    "select <- sample(1:101, 70, replace=F)\n",
    "zoo_train_n <- zoo_n[select,]\n",
    "zoo_test_n <- zoo_n[-select,]\n",
    "zoo_train_labels <- zoo[select, 17]\n",
    "zoo_test_labels <- zoo[-select, 17]"
   ]
  },
  {
   "cell_type": "markdown",
   "metadata": {},
   "source": [
    "## Steps 3 & 4"
   ]
  },
  {
   "cell_type": "code",
   "execution_count": 14,
   "metadata": {
    "collapsed": false
   },
   "outputs": [],
   "source": [
    "# Creating a knn prediction vector and generating a cross table.\n",
    "zoo_test_pred_n <- knn(train = zoo_train_n, test = zoo_test_n, cl = zoo_train_labels, k = 11)\n",
    "invisible(capture.output(ct <- CrossTable(x = zoo_test_labels, y = zoo_test_pred_n, prop.chisq = FALSE, \n",
    "                 missing.include=FALSE)))"
   ]
  },
  {
   "cell_type": "code",
   "execution_count": 15,
   "metadata": {
    "collapsed": false
   },
   "outputs": [
    {
     "name": "stderr",
     "output_type": "stream",
     "text": [
      "Using number as value column.  Use the value argument to cast to override this choice\n",
      "The following `from` values were not present in `x`: Reptile, Amphibian\n"
     ]
    },
    {
     "data": {
      "text/html": [
       "<table>\n",
       "<thead><tr><th></th><th scope=col>Actual</th><th scope=col>Mammal_knn</th><th scope=col>Bird_knn</th><th scope=col>Marine_knn</th><th scope=col>Insect_knn</th><th scope=col>Invertibrate_knn</th></tr></thead>\n",
       "<tbody>\n",
       "\t<tr><th scope=row>1</th><td>Mammal</td><td>14</td><td>0</td><td>0</td><td>0</td><td>0</td></tr>\n",
       "\t<tr><th scope=row>2</th><td>Bird</td><td>0</td><td>4</td><td>0</td><td>0</td><td>0</td></tr>\n",
       "\t<tr><th scope=row>3</th><td>Reptile</td><td>0</td><td>0</td><td>2</td><td>0</td><td>0</td></tr>\n",
       "\t<tr><th scope=row>4</th><td>Marine</td><td>0</td><td>0</td><td>5</td><td>0</td><td>0</td></tr>\n",
       "\t<tr><th scope=row>5</th><td>Amphibian</td><td>0</td><td>1</td><td>1</td><td>0</td><td>0</td></tr>\n",
       "\t<tr><th scope=row>6</th><td>Insect</td><td>0</td><td>0</td><td>0</td><td>1</td><td>0</td></tr>\n",
       "\t<tr><th scope=row>7</th><td>Invertibrate</td><td>0</td><td>0</td><td>0</td><td>1</td><td>2</td></tr>\n",
       "</tbody>\n",
       "</table>\n"
      ],
      "text/latex": [
       "\\begin{tabular}{r|llllll}\n",
       "  & Actual & Mammal_knn & Bird_knn & Marine_knn & Insect_knn & Invertibrate_knn\\\\\n",
       "\\hline\n",
       "\t1 & Mammal & 14 & 0 & 0 & 0 & 0\\\\\n",
       "\t2 & Bird & 0 & 4 & 0 & 0 & 0\\\\\n",
       "\t3 & Reptile & 0 & 0 & 2 & 0 & 0\\\\\n",
       "\t4 & Marine & 0 & 0 & 5 & 0 & 0\\\\\n",
       "\t5 & Amphibian & 0 & 1 & 1 & 0 & 0\\\\\n",
       "\t6 & Insect & 0 & 0 & 0 & 1 & 0\\\\\n",
       "\t7 & Invertibrate & 0 & 0 & 0 & 1 & 2\\\\\n",
       "\\end{tabular}\n"
      ],
      "text/plain": [
       "        Actual Mammal_knn Bird_knn Marine_knn Insect_knn Invertibrate_knn\n",
       "1       Mammal         14        0          0          0                0\n",
       "2         Bird          0        4          0          0                0\n",
       "3      Reptile          0        0          2          0                0\n",
       "4       Marine          0        0          5          0                0\n",
       "5    Amphibian          0        1          1          0                0\n",
       "6       Insect          0        0          0          1                0\n",
       "7 Invertibrate          0        0          0          1                2"
      ]
     },
     "execution_count": 15,
     "metadata": {},
     "output_type": "execute_result"
    }
   ],
   "source": [
    "# Converting the information from the cross table into a more readable format, a dataframe.\n",
    "df_n <- as.data.frame(ct)[, 1:3]\n",
    "colnames(df_n) <- c('Actual', 'Predicted', 'number')\n",
    "df2_n <- cast(df_n, Actual ~ Predicted)\n",
    "df2_n <- rename(df2_n, c(\"Mammal\"=\"Mammal_knn\",\"Bird\"=\"Bird_knn\", \"Reptile\"=\"Reptile_knn\", \n",
    "              \"Marine\"=\"Marine_knn\", \"Amphibian\"=\"Amphibian_knn\", \n",
    "              \"Insect\"=\"Insect_knn\", \"Invertibrate\"=\"Invertibrate_knn\"))\n",
    "df2_n"
   ]
  },
  {
   "cell_type": "markdown",
   "metadata": {},
   "source": [
    "#### Comment: \n",
    "This model with regular normalization does fairly well in predicting type of animal based on the characteristics in the data. The predictions primarily have difficulty with misclassifying reptiles. However, most other animal types are classified correctly."
   ]
  },
  {
   "cell_type": "markdown",
   "metadata": {},
   "source": [
    "## Step 5"
   ]
  },
  {
   "cell_type": "code",
   "execution_count": 16,
   "metadata": {
    "collapsed": false
   },
   "outputs": [],
   "source": [
    "# Testing z-score normalization.\n",
    "zoo_z <- as.data.frame(scale(zoo[-17]))\n",
    "select2 <- sample(1:101, 70, replace=F)\n",
    "zoo_train_z <- zoo_z[select2,]\n",
    "zoo_test_z <- zoo_z[-select2,]\n",
    "zoo_train_labels_z <- zoo[select2, 17]\n",
    "zoo_test_labels_z <- zoo[-select2, 17]"
   ]
  },
  {
   "cell_type": "code",
   "execution_count": 17,
   "metadata": {
    "collapsed": false
   },
   "outputs": [],
   "source": [
    "zoo_test_pred_z <- knn(train = zoo_train_z, test = zoo_test_z, cl = zoo_train_labels_z, k = 11)\n",
    "invisible(capture.output(\n",
    "    zt <- CrossTable(x = zoo_test_labels_z, y = zoo_test_pred_z, prop.chisq = FALSE)))"
   ]
  },
  {
   "cell_type": "code",
   "execution_count": 18,
   "metadata": {
    "collapsed": false
   },
   "outputs": [
    {
     "name": "stderr",
     "output_type": "stream",
     "text": [
      "Using number as value column.  Use the value argument to cast to override this choice\n",
      "The following `from` values were not present in `x`: Reptile, Amphibian\n"
     ]
    },
    {
     "data": {
      "text/html": [
       "<table>\n",
       "<thead><tr><th></th><th scope=col>Actual</th><th scope=col>Mammal_knn</th><th scope=col>Bird_knn</th><th scope=col>Marine_knn</th><th scope=col>Insect_knn</th><th scope=col>Invertibrate_knn</th></tr></thead>\n",
       "<tbody>\n",
       "\t<tr><th scope=row>1</th><td>Mammal</td><td>11</td><td>0</td><td>0</td><td>0</td><td>0</td></tr>\n",
       "\t<tr><th scope=row>2</th><td>Bird</td><td>0</td><td>9</td><td>0</td><td>0</td><td>0</td></tr>\n",
       "\t<tr><th scope=row>3</th><td>Reptile</td><td>0</td><td>0</td><td>2</td><td>0</td><td>0</td></tr>\n",
       "\t<tr><th scope=row>4</th><td>Marine</td><td>0</td><td>0</td><td>5</td><td>0</td><td>0</td></tr>\n",
       "\t<tr><th scope=row>5</th><td>Insect</td><td>0</td><td>0</td><td>0</td><td>2</td><td>0</td></tr>\n",
       "\t<tr><th scope=row>6</th><td>Invertibrate</td><td>0</td><td>0</td><td>0</td><td>0</td><td>2</td></tr>\n",
       "</tbody>\n",
       "</table>\n"
      ],
      "text/latex": [
       "\\begin{tabular}{r|llllll}\n",
       "  & Actual & Mammal_knn & Bird_knn & Marine_knn & Insect_knn & Invertibrate_knn\\\\\n",
       "\\hline\n",
       "\t1 & Mammal & 11 & 0 & 0 & 0 & 0\\\\\n",
       "\t2 & Bird & 0 & 9 & 0 & 0 & 0\\\\\n",
       "\t3 & Reptile & 0 & 0 & 2 & 0 & 0\\\\\n",
       "\t4 & Marine & 0 & 0 & 5 & 0 & 0\\\\\n",
       "\t5 & Insect & 0 & 0 & 0 & 2 & 0\\\\\n",
       "\t6 & Invertibrate & 0 & 0 & 0 & 0 & 2\\\\\n",
       "\\end{tabular}\n"
      ],
      "text/plain": [
       "        Actual Mammal_knn Bird_knn Marine_knn Insect_knn Invertibrate_knn\n",
       "1       Mammal         11        0          0          0                0\n",
       "2         Bird          0        9          0          0                0\n",
       "3      Reptile          0        0          2          0                0\n",
       "4       Marine          0        0          5          0                0\n",
       "5       Insect          0        0          0          2                0\n",
       "6 Invertibrate          0        0          0          0                2"
      ]
     },
     "execution_count": 18,
     "metadata": {},
     "output_type": "execute_result"
    }
   ],
   "source": [
    "df_z <- as.data.frame(zt)[, 1:3]\n",
    "colnames(df_z) <- c('Actual', 'Predicted', 'number')\n",
    "df2_z <- cast(df_z, Actual ~ Predicted)\n",
    "df2_z <- rename(df2_z, c(\"Mammal\"=\"Mammal_knn\",\"Bird\"=\"Bird_knn\", \"Reptile\"=\"Reptile_knn\", \n",
    "                         \"Marine\"=\"Marine_knn\", \"Amphibian\"=\"Amphibian_knn\", \n",
    "                         \"Insect\"=\"Insect_knn\", \"Invertibrate\"=\"Invertibrate_knn\"))\n",
    "df2_z"
   ]
  },
  {
   "cell_type": "markdown",
   "metadata": {},
   "source": [
    "#### Comment: \n",
    "The z-score normalization performs worse than the previous normalization function. In this case several types of animals were misclassified."
   ]
  },
  {
   "cell_type": "markdown",
   "metadata": {},
   "source": [
    "#### Conclusion: \n",
    "After analyzing several possible k values for the min-max normalized knn function, k=11 has yielded the best results. From this, the knn algorithm is predicting which of seven categories an animal falls into based on several characteristics, such as whether the animal has hair, teeth, wings, etc. The knn does well at making these predictions, but falls short for some distinctions where a human would not. "
   ]
  }
 ],
 "metadata": {
  "kernelspec": {
   "display_name": "R",
   "language": "R",
   "name": "ir"
  },
  "language_info": {
   "codemirror_mode": "r",
   "file_extension": ".r",
   "mimetype": "text/x-r-source",
   "name": "R",
   "pygments_lexer": "r",
   "version": "3.2.2"
  }
 },
 "nbformat": 4,
 "nbformat_minor": 0
}
